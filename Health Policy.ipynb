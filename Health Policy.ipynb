{
 "cells": [
  {
   "cell_type": "markdown",
   "metadata": {},
   "source": [
    "# Health and Health Care Policy\n",
    "\n",
    "Given all the issues associated with health care choices, when should the government intervene?\n",
    "\n",
    "## Insurance\n",
    "We saw that asymmetric information can lead to:\n",
    "1. Individuals seeking health insurance that are high risk, leading to higher costs and prices of insurance.\n",
    "2. Individuals changing their behavior to be riskier in the presence of health insurance. \n",
    "\n",
    "Without insurance, poorer individuals may not be able to allocate sufficient income to health goods and services. \n",
    "\n",
    "## Poor health outcomes and disparities\n",
    "### Death Rates Across Racial and Ethnic Groups\n",
    "![img 1](https://www.cdc.gov/nchs/images/databriefs/151-200/db168_fig2.gif) \n",
    "### Leading Causes of Death\n",
    "![img 2](https://www.cdc.gov/nchs/images/databriefs/151-200/db168_fig3.gif)\n",
    "### Leading Causes of Infant Mortality\n",
    "![img 3](https://www.cdc.gov/nchs/images/databriefs/151-200/db168_fig4.gif)\n",
    "### Maternal Mortality Rate Across Nations\n",
    "![img 4](https://infographic.statista.com/normal/chartoftheday_2231_Maternal_mortality_rate_n.jpg)\n",
    "### Infant Mortality Rate Across Nations\n",
    "![img 5](http://www.nptinternal.org/productions/chcv2/infant-mortality/images/how-us-compare.jpg)\n",
    "### Overdose Death Rates\n",
    "![img 6](https://www.cdc.gov/nchs/images/databriefs/301-350/db329_fig1.gif)"
   ]
  },
  {
   "cell_type": "markdown",
   "metadata": {},
   "source": [
    "## US Health Care Policy\n",
    "https://www.rand.org/health-care/key-topics/health-policy.html\n",
    "\n",
    "### Affordable Care Act \n",
    "Formally, the Patient Protection and Affordable Care Act (informally, Obamacare), was enacted with the intention of increasing access to affordable health care in the U.S. in three ways:\n",
    "\n",
    "From [Rand](https://www.rand.org/health-care/key-topics/health-policy/aca/in-depth.html):\n",
    "> 1. Individual Insurance Marketplaces: Online exchanges operated by individual states or by the federal government, where individuals and families can buy health insurance directly from insurers. People with incomes between 100 and 400 percent of the federal poverty level are eligible for premium subsidies to help them buy coverage.\n",
    "> 2. Small Business Insurance Marketplaces: Online exchanges (known as Small Business Health Options or SHOP) to help firms with 50 or fewer employees cover their workers.\n",
    "> 3. Medicaid Expansion: Broader Medicaid eligibility to include those earning up to 138 percent of the federal poverty level.\n",
    "\n",
    "Impact on **INSURANCE COVERAGE** according to Rand:\n",
    "\n",
    "> More than three years after the law's enactment, enrollment in the online Marketplaces began in **October 2013**. Notwithstanding widely reported problems with the rollout of the Marketplace websites, sizable numbers of previously uninsured people were able to obtain coverage over the first and second enrollment periods.\n",
    "\n",
    "> Analysis of survey data about Americans' health insurance enrollment from October 2013 to April 2015 showed that **22.8 million Americans became newly insured and 5.9 million lost coverage, for a net of 16.9 million newly insured Americans**. The total number of **uninsured Americans dropped from 42.7 million to 25.8 million.**\n",
    "\n",
    "> Much of this increase was driven by **gains in employer-sponsored coverage**. Among those newly insured, **9.6 million people enrolled in employer-sponsored health plans, followed by Medicaid (6.5 million), the individual marketplaces (4.1 million), nonmarketplace individual plans (1.2 million) and other insurance sources (1.5 million).**\n",
    "\n",
    "> The study also estimated that **125.2 million Americans—about 80 percent of the nonelderly population that had insurance in September 2013—experienced no change in the source of insurance during the period.**\n",
    "\n",
    "### Why do you suppose the ACA was effective at increasing enrollment?\n",
    "\n",
    "### What is involved with Medicaid Expansion?\n",
    "According to [Rand](https://www.rand.org/health-care/key-topics/health-policy/aca/in-depth.html)\n",
    "\n",
    "> 1. **More Federal Medicaid Funds Per State**: Prior to expansion, the federal government paid on average 57 percent of coverage costs. Under the ACA, the federal government pays 100 percent of the coverage costs for those newly insured under Medicaid expansion. After 2016, the federal share shrinks to 90 percent, which is still considerably more than the pre-ACA level.\n",
    "> 2. **Greater Access to Care**: Medicaid expansion makes health care more accessible to the poorest people — those earning less than 138 percent of the federal poverty level (this amounted to an income of about \\\\$16,000 for a single person or \\\\$32,000 for a family of four in 2013).\n",
    "> 3. **Less Spending on Uncompensated Care**: Providing insurance to the very poor reduces uncompensated costs of treatment for this group — an estimated \\\\$80 billion in 2016. Currently, about one-third of this spending comes from state budgets.\n",
    "> 4. **Reduced Financial Risk for the Lowest-Income Americans**.\n",
    "\n"
   ]
  },
  {
   "cell_type": "markdown",
   "metadata": {},
   "source": [
    "## Fears that employers will quit dropping coverage\n",
    "> Critics of the ACA made dire predictions that the law’s employer mandate would cause firms to drop coverage for large numbers of workers. This mandate, aimed at larger firms (those with 50 or more employees), requires that firms offer coverage to employees who work at least 30 hours per week. Firms that fail to do this mandate are assessed a penalty of \\\\$2,000 per employee, not counting the first 30 employees.\n",
    "\n",
    "> These firms, it was argued, would “do the math” and opt to pay the fine rather than offer insurance. RAND analysis estimated that the effect would be the opposite: that the number of workers receiving employer offers of coverage would actually increase. Early enrollment numbers from 2014 confirmed that most of the **newly insured in the U.S.—8.2 million out of a total of 14.5 million newly insured—gained coverage through their employers**."
   ]
  },
  {
   "cell_type": "markdown",
   "metadata": {},
   "source": [
    "## People Affected by the ACA:\n",
    "\n",
    "> 1. Those With Higher Incomes: Those earning more than 400 percent of FPL (\\\\$46,680 for an individual, \\\\$95,400 for a family of four) are ineligible for either Medicaid or marketplace tax credits. This group represents 16 percent of the ineligible, uninsured population.\n",
    "> 2. Undocumented Immigrants: The ACA prohibits undocumented immigrants from participating in the Medicaid expansion or receiving tax credits for marketplace plans. We estimate that 23 percent of the uninsured who remain ineligible for public programs are undocumented immigrants.\n",
    "> 3. Low-Income Individuals Residing in States that Don’t Expand Medicaid: In states that do not expand their Medicaid programs, there could be a coverage gap for adults with incomes below 100 percent of the poverty level, and who are ineligible for Medicaid under the state's existing law. These individuals will remain ineligible for Medicaid, and will not qualify for marketplace tax credits. Twenty-eight percent of the 19 million individuals left behind, or 5.3 million people, fall into this category.\n",
    "> 4. Individuals with “Affordable Offers” from Employers: Individual exchange tax credits are available to U.S. citizens and legal residents with incomes between 100 and 400 percent of the FPL. The tax credits cap health insurance spending as a percentage of income, up to the price of the second lowest cost silver plan available in an individual's rating area. People are also disqualified from receiving tax credits if they are eligible for Medicaid or CHIP, or if they have an “affordable” offer of health insurance coverage from an employer. Offers are considered affordable if the employee's contribution for single coverage is less than 9.5 percent of family income. The affordability criterion is based on the cost of single coverage, even if the employee has a family."
   ]
  },
  {
   "cell_type": "markdown",
   "metadata": {},
   "source": [
    "## Peer Reviewed Articles on ACA :\n",
    "\n",
    "1. Barakat, M. T., Mithal, A., Huang, R. J., Sehgal, A., Sehgal, A., Singh, G., & Banerjee, S. (2018). Recent Trends and the Impact of the Affordable Care Act on Emergency Department Visits and Hospitalizations for Gastrointestinal, Pancreatic, and Liver Diseases. Journal of Clinical Gastroenterology. https://doi.org/10.1097/mcg.0000000000001102\n",
    "> **Abstract**: \n",
    "> 1. BACKGROUND:The Affordable Care Act (ACA) with Medicaid expansion implemented in 2014, extended health insurance to >20-million previously uninsured individuals. However, it is unclear whether enhanced primary care access with Medicaid expansion decreased emergency department (ED) visits and hospitalizations for gastrointestinal (GI)/pancreatic/liver diseases. \n",
    "> 2. METHODS:We evaluated trends in GI/pancreatic/liver diagnosis-specific ED/hospital utilization over a 5-year period leading up to Medicaid expansion and a year following expansion, in California (a state that implemented Medicaid expansion) and compare these with Florida (a state that did not). \n",
    "> 3. RESULTS:From 2009 to 2013, GI/pancreatic/liver disease ED visits increased by 15.0% in California and 20.2% in Florida and hospitalizations for these conditions decreased by 2.6% in California and increased by 7.9% in Florida. Following Medicaid expansion, a shift from self-pay/uninsured to Medicaid insurance was seen California; in addition, a new decrease in ED visits for nausea/vomiting and GI infections, was evident, without associated change in overall ED/hospital utilization trends. Total hospitalization charges for abdominal pain, nausea/vomiting, constipation, and GI infection diagnoses decreased in California following Medicaid expansion, but increased over the same time-period in Florida. \n",
    "> 4. CONCLUSIONS:We observed a striking payer shift for GI/pancreatic/liver disease ED visits/hospitalizations after Medicaid expansion in California, indicating a shift in the reimbursement burden in self-pay/uninsured patients, from patients and hospitals to the government. ED visits and hospitalization charges decreased for some primary care-treatable GI diagnoses in California, but not for Florida, suggesting a trend toward lower cost of gastroenterology care, perhaps because of decreased hospital utilization for conditions amenable to outpatient management."
   ]
  },
  {
   "cell_type": "code",
   "execution_count": null,
   "metadata": {},
   "outputs": [],
   "source": []
  }
 ],
 "metadata": {
  "kernelspec": {
   "display_name": "Python 3",
   "language": "python",
   "name": "python3"
  },
  "language_info": {
   "codemirror_mode": {
    "name": "ipython",
    "version": 3
   },
   "file_extension": ".py",
   "mimetype": "text/x-python",
   "name": "python",
   "nbconvert_exporter": "python",
   "pygments_lexer": "ipython3",
   "version": "3.7.0"
  }
 },
 "nbformat": 4,
 "nbformat_minor": 2
}
